{
 "cells": [
  {
   "cell_type": "code",
   "execution_count": 1,
   "id": "7096e0ab",
   "metadata": {},
   "outputs": [],
   "source": [
    "import pandas as pd"
   ]
  },
  {
   "cell_type": "code",
   "execution_count": 2,
   "id": "a959ac49",
   "metadata": {},
   "outputs": [],
   "source": [
    "data = pd.read_csv('fk_data.csv')"
   ]
  },
  {
   "cell_type": "code",
   "execution_count": 3,
   "id": "10d8c255",
   "metadata": {},
   "outputs": [
    {
     "data": {
      "text/html": [
       "<div>\n",
       "<style scoped>\n",
       "    .dataframe tbody tr th:only-of-type {\n",
       "        vertical-align: middle;\n",
       "    }\n",
       "\n",
       "    .dataframe tbody tr th {\n",
       "        vertical-align: top;\n",
       "    }\n",
       "\n",
       "    .dataframe thead th {\n",
       "        text-align: right;\n",
       "    }\n",
       "</style>\n",
       "<table border=\"1\" class=\"dataframe\">\n",
       "  <thead>\n",
       "    <tr style=\"text-align: right;\">\n",
       "      <th></th>\n",
       "      <th>NAMES</th>\n",
       "      <th>RANKS</th>\n",
       "      <th>REVIEWS</th>\n",
       "    </tr>\n",
       "  </thead>\n",
       "  <tbody>\n",
       "    <tr>\n",
       "      <th>0</th>\n",
       "      <td>NaN</td>\n",
       "      <td>NaN</td>\n",
       "      <td>NaN</td>\n",
       "    </tr>\n",
       "    <tr>\n",
       "      <th>1</th>\n",
       "      <td>NaN</td>\n",
       "      <td>NaN</td>\n",
       "      <td>NaN</td>\n",
       "    </tr>\n",
       "    <tr>\n",
       "      <th>2</th>\n",
       "      <td>NaN</td>\n",
       "      <td>NaN</td>\n",
       "      <td>NaN</td>\n",
       "    </tr>\n",
       "    <tr>\n",
       "      <th>3</th>\n",
       "      <td>Dhiraj Lanjewar</td>\n",
       "      <td>5.0</td>\n",
       "      <td>Classy product</td>\n",
       "    </tr>\n",
       "    <tr>\n",
       "      <th>4</th>\n",
       "      <td>Priyanka Limbu</td>\n",
       "      <td>1.0</td>\n",
       "      <td>Worst experience ever!</td>\n",
       "    </tr>\n",
       "  </tbody>\n",
       "</table>\n",
       "</div>"
      ],
      "text/plain": [
       "             NAMES   RANKS                 REVIEWS\n",
       "0              NaN     NaN                     NaN\n",
       "1              NaN     NaN                     NaN\n",
       "2              NaN     NaN                     NaN\n",
       "3  Dhiraj Lanjewar     5.0          Classy product\n",
       "4   Priyanka Limbu     1.0  Worst experience ever!"
      ]
     },
     "execution_count": 3,
     "metadata": {},
     "output_type": "execute_result"
    }
   ],
   "source": [
    "data.head()"
   ]
  },
  {
   "cell_type": "code",
   "execution_count": 4,
   "id": "1c8405cd",
   "metadata": {},
   "outputs": [
    {
     "name": "stdout",
     "output_type": "stream",
     "text": [
      "<class 'pandas.core.frame.DataFrame'>\n",
      "RangeIndex: 3368 entries, 0 to 3367\n",
      "Data columns (total 3 columns):\n",
      " #   Column   Non-Null Count  Dtype  \n",
      "---  ------   --------------  -----  \n",
      " 0   NAMES    2403 non-null   object \n",
      " 1    RANKS   2404 non-null   float64\n",
      " 2   REVIEWS  2404 non-null   object \n",
      "dtypes: float64(1), object(2)\n",
      "memory usage: 79.1+ KB\n"
     ]
    }
   ],
   "source": [
    "data.info()"
   ]
  },
  {
   "cell_type": "code",
   "execution_count": 5,
   "id": "16cfcbb6",
   "metadata": {},
   "outputs": [
    {
     "data": {
      "text/plain": [
       "3368"
      ]
     },
     "execution_count": 5,
     "metadata": {},
     "output_type": "execute_result"
    }
   ],
   "source": [
    "len(data['REVIEWS'])"
   ]
  },
  {
   "cell_type": "code",
   "execution_count": 6,
   "id": "488ab184",
   "metadata": {},
   "outputs": [
    {
     "data": {
      "text/plain": [
       "NAMES      965\n",
       " RANKS     964\n",
       "REVIEWS    964\n",
       "dtype: int64"
      ]
     },
     "execution_count": 6,
     "metadata": {},
     "output_type": "execute_result"
    }
   ],
   "source": [
    "data.isna().sum()"
   ]
  },
  {
   "cell_type": "code",
   "execution_count": 7,
   "id": "a488ed8d",
   "metadata": {},
   "outputs": [],
   "source": [
    "data = data.dropna(subset=['REVIEWS'])"
   ]
  },
  {
   "cell_type": "code",
   "execution_count": 8,
   "id": "c9297189",
   "metadata": {},
   "outputs": [
    {
     "data": {
      "text/plain": [
       "2404"
      ]
     },
     "execution_count": 8,
     "metadata": {},
     "output_type": "execute_result"
    }
   ],
   "source": [
    "len(data['REVIEWS'])"
   ]
  },
  {
   "cell_type": "code",
   "execution_count": 9,
   "id": "62473b1c",
   "metadata": {},
   "outputs": [
    {
     "data": {
      "text/plain": [
       "NAMES      1\n",
       " RANKS     0\n",
       "REVIEWS    0\n",
       "dtype: int64"
      ]
     },
     "execution_count": 9,
     "metadata": {},
     "output_type": "execute_result"
    }
   ],
   "source": [
    "data.isna().sum()"
   ]
  },
  {
   "cell_type": "code",
   "execution_count": 10,
   "id": "b3951afc",
   "metadata": {},
   "outputs": [],
   "source": [
    "data1 = data[['REVIEWS', ' RANKS']]"
   ]
  },
  {
   "cell_type": "code",
   "execution_count": 11,
   "id": "3bbb669a",
   "metadata": {},
   "outputs": [],
   "source": [
    "data1.to_csv('cleaned_data.csv', index=False)"
   ]
  },
  {
   "cell_type": "code",
   "execution_count": null,
   "id": "5cf215f5",
   "metadata": {},
   "outputs": [],
   "source": []
  }
 ],
 "metadata": {
  "kernelspec": {
   "display_name": "Python 3 (ipykernel)",
   "language": "python",
   "name": "python3"
  },
  "language_info": {
   "codemirror_mode": {
    "name": "ipython",
    "version": 3
   },
   "file_extension": ".py",
   "mimetype": "text/x-python",
   "name": "python",
   "nbconvert_exporter": "python",
   "pygments_lexer": "ipython3",
   "version": "3.10.7"
  }
 },
 "nbformat": 4,
 "nbformat_minor": 5
}
